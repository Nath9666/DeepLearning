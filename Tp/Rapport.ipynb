{
 "cells": [
  {
   "cell_type": "markdown",
   "metadata": {},
   "source": [
    "# **LAB 1 CNN**"
   ]
  },
  {
   "cell_type": "markdown",
   "metadata": {},
   "source": [
    "Pour pouvoir comparer les différents résultats entre eux, nous avons lancé le code 10 fois pour chaque modification. "
   ]
  },
  {
   "cell_type": "markdown",
   "metadata": {},
   "source": [
    "On a commencé par lancer le code sans le modifier avec les couches 256 et 64."
   ]
  },
  {
   "cell_type": "code",
   "execution_count": 1,
   "metadata": {},
   "outputs": [
    {
     "ename": "NameError",
     "evalue": "name 'Sequential' is not defined",
     "output_type": "error",
     "traceback": [
      "\u001b[1;31m---------------------------------------------------------------------------\u001b[0m",
      "\u001b[1;31mNameError\u001b[0m                                 Traceback (most recent call last)",
      "Cell \u001b[1;32mIn[1], line 1\u001b[0m\n\u001b[1;32m----> 1\u001b[0m model \u001b[38;5;241m=\u001b[39m \u001b[43mSequential\u001b[49m() \n\u001b[0;32m      2\u001b[0m model\u001b[38;5;241m.\u001b[39madd(layers\u001b[38;5;241m.\u001b[39mConv2D(\u001b[38;5;241m256\u001b[39m, (\u001b[38;5;241m3\u001b[39m, \u001b[38;5;241m3\u001b[39m), activation\u001b[38;5;241m=\u001b[39m\u001b[38;5;124m'\u001b[39m\u001b[38;5;124mrelu\u001b[39m\u001b[38;5;124m'\u001b[39m,input_shape\u001b[38;5;241m=\u001b[39m(\u001b[38;5;241m227\u001b[39m, \u001b[38;5;241m227\u001b[39m, \u001b[38;5;241m3\u001b[39m)))\n\u001b[0;32m      3\u001b[0m model\u001b[38;5;241m.\u001b[39madd(layers\u001b[38;5;241m.\u001b[39mMaxPooling2D((\u001b[38;5;241m2\u001b[39m, \u001b[38;5;241m2\u001b[39m)))\n",
      "\u001b[1;31mNameError\u001b[0m: name 'Sequential' is not defined"
     ]
    }
   ],
   "source": [
    "model = Sequential() \n",
    "model.add(layers.Conv2D(256, (3, 3), activation='relu',input_shape=(227, 227, 3)))\n",
    "model.add(layers.MaxPooling2D((2, 2)))\n",
    "\n",
    "model.add(layers.Conv2D(64, (3, 3), activation='relu'))\n",
    "model.add(layers.MaxPooling2D((2, 2)))\n",
    "\n",
    "model.add(layers.Flatten())\n",
    "model.add(layers.Dropout(0.25) )# supprimer aléatoirement un certain nombre de neuronne de temps à autres \n",
    "model.add(layers.Dense(256, activation='sigmoid'))\n",
    "\n",
    "model.add(layers.Dense(2, activation='softmax')) #2 sorties"
   ]
  },
  {
   "cell_type": "markdown",
   "metadata": {},
   "source": [
    "On a obtenu comme résultat : "
   ]
  },
  {
   "cell_type": "code",
   "execution_count": 2,
   "metadata": {},
   "outputs": [
    {
     "name": "stdout",
     "output_type": "stream",
     "text": [
      "Moyenne des epochs : 8.1\n",
      "Moyenne des accuracies : 0.58888\n",
      "Moyenne des scores : [0.53067537 0.46932462]\n"
     ]
    }
   ],
   "source": [
    "import numpy as np\n",
    "\n",
    "# Données\n",
    "data = [\n",
    "    {'epoch': 5, 'accuracy': 0.7149, 'score': [0.37848124, 0.6215187]},\n",
    "    {'epoch': 8, 'accuracy': 0.3643, 'score': [0.5260988, 0.47390118]},\n",
    "    {'epoch': 10, 'accuracy': 0.5810, 'score': [0.4895171, 0.51048297]},\n",
    "    {'epoch': 9, 'accuracy': 0.6602, 'score': [0.4531347, 0.5468653]},\n",
    "    {'epoch': 13, 'accuracy': 0.7890, 'score': [0.63048774, 0.3695122]},\n",
    "    {'epoch': 9, 'accuracy': 0.3260, 'score': [0.4558533, 0.54414666]},\n",
    "    {'epoch': 8, 'accuracy': 0.5365, 'score': [0.5642779, 0.43572208]},\n",
    "    {'epoch': 6, 'accuracy': 0.6192, 'score': [0.5500377, 0.44996232]},\n",
    "    {'epoch': 5, 'accuracy': 0.5083, 'score': [0.5901012, 0.40989885]},\n",
    "    {'epoch': 8, 'accuracy': 0.7894, 'score': [0.66876405, 0.33123592]}\n",
    "]\n",
    "\n",
    "# Calcul des moyennes\n",
    "mean_epoch = np.mean([d['epoch'] for d in data])\n",
    "mean_accuracy = np.mean([d['accuracy'] for d in data])\n",
    "mean_score = np.mean([d['score'] for d in data], axis=0)\n",
    "\n",
    "print(f\"Moyenne des epochs : {mean_epoch}\")\n",
    "print(f\"Moyenne des accuracies : {mean_accuracy}\")\n",
    "print(f\"Moyenne des scores : {mean_score}\")"
   ]
  },
  {
   "cell_type": "markdown",
   "metadata": {},
   "source": [
    "Au vu des résultats des différentes moyennes, nous ne sommes pas satisfait du résultat car nous avons trouvé des scores assez proches et que la probabilité moyenne que la personne soit saine est bien inférieur à 0.5. \n",
    "\n",
    "De plus la précision du modèle est de 58,88% ce qui indique que le modèle a une performance modérée dans la classification. \n",
    "\n",
    "Enfin pour ce qui est des epochs, le modèle à été entraîné en moyenne pendant 8,1 epochs.\n",
    "\n",
    "Nous avons donc décidé d’ajouter différentes couches de convolution pour voir l'impacte que cela pouvait avoir."
   ]
  },
  {
   "cell_type": "markdown",
   "metadata": {},
   "source": [
    "**Ajout de la couche de convolution 32 seule :**"
   ]
  },
  {
   "cell_type": "code",
   "execution_count": null,
   "metadata": {},
   "outputs": [],
   "source": [
    "model = Sequential() \n",
    "model.add(layers.Conv2D(256, (3, 3), activation='relu',input_shape=(227, 227, 3)))\n",
    "model.add(layers.MaxPooling2D((2, 2)))\n",
    "\n",
    "model.add(layers.Conv2D(64, (3, 3), activation='relu'))\n",
    "model.add(layers.MaxPooling2D((2, 2)))\n",
    "\n",
    "model.add(layers.Conv2D(32,(3,3),activation='relu'))\n",
    "model.add(layers.MaxPooling2D((2, 2)))\n",
    "\n",
    "model.add(layers.Flatten())\n",
    "model.add(layers.Dropout(0.25) )# supprimer aléatoirement un certain nombre de neuronne de temps à autres \n",
    "model.add(layers.Dense(256, activation='sigmoid'))\n",
    "\n",
    "model.add(layers.Dense(2, activation='softmax')) #2 sorties"
   ]
  },
  {
   "cell_type": "markdown",
   "metadata": {},
   "source": [
    "On a obtenu comme résultat : "
   ]
  },
  {
   "cell_type": "code",
   "execution_count": 4,
   "metadata": {},
   "outputs": [
    {
     "name": "stdout",
     "output_type": "stream",
     "text": [
      "Moyenne des epochs : 9.4\n",
      "Moyenne des accuracies : 0.6413300000000001\n",
      "Moyenne des scores : [0.68133218 0.31866783]\n"
     ]
    }
   ],
   "source": [
    "import numpy as np\n",
    "\n",
    "# Données\n",
    "data = [\n",
    "    {'epoch': 6, 'accuracy': 0.7369, 'score': [0.9290923, 0.07090775]},\n",
    "    {'epoch': 10, 'accuracy': 0.5822, 'score': [0.61234456, 0.38765544]},\n",
    "    {'epoch': 12, 'accuracy': 0.8176, 'score': [0.73632425, 0.26367578]},\n",
    "    {'epoch': 8, 'accuracy': 0.6567, 'score': [0.77019256, 0.22980745]},\n",
    "    {'epoch': 12, 'accuracy': 0.7541, 'score': [0.69181615, 0.30818385]},\n",
    "    {'epoch': 9, 'accuracy': 0.6603, 'score': [0.58460623, 0.41539377]},\n",
    "    {'epoch': 9, 'accuracy': 0.3203, 'score': [0.5478195, 0.4521805]},\n",
    "    {'epoch': 6, 'accuracy': 0.7546, 'score': [0.68093723, 0.31906277]},\n",
    "    {'epoch': 5, 'accuracy': 0.4271, 'score': [0.6728345, 0.3271655]},\n",
    "    {'epoch': 17, 'accuracy': 0.7035, 'score': [0.58735454, 0.41264546]}\n",
    "]\n",
    "\n",
    "# Calcul des moyennes\n",
    "mean_epoch = np.mean([d['epoch'] for d in data])\n",
    "mean_accuracy = np.mean([d['accuracy'] for d in data])\n",
    "mean_score = np.mean([d['score'] for d in data], axis=0)\n",
    "\n",
    "print(f\"Moyenne des epochs : {mean_epoch}\")\n",
    "print(f\"Moyenne des accuracies : {mean_accuracy}\")\n",
    "print(f\"Moyenne des scores : {mean_score}\")"
   ]
  },
  {
   "cell_type": "markdown",
   "metadata": {},
   "source": [
    "Au vu des résultats des différentes moyennes, nous avons trouvé des scores assez proches et la probabilité moyenne que la personne soit saine est  inférieure à 0.5. \n",
    "\n",
    "De plus, la précision du modèle est de 64,13%, ce qui indique que le modèle a une performance relativement bonne dans la classification. \n",
    "\n",
    "Enfin, pour ce qui est des epochs, le modèle a été entraîné en moyenne pendant 9.4 epochs. \n",
    "\n",
    "Nous allons donc continuer à modifier les couches de convolutions"
   ]
  },
  {
   "cell_type": "markdown",
   "metadata": {},
   "source": [
    "**Ajout de la couche de convolution 128 seule :** "
   ]
  },
  {
   "cell_type": "code",
   "execution_count": null,
   "metadata": {},
   "outputs": [],
   "source": [
    "model = Sequential() \n",
    "model.add(layers.Conv2D(256, (3, 3), activation='relu',input_shape=(227, 227, 3)))\n",
    "model.add(layers.MaxPooling2D((2, 2)))\n",
    "\n",
    "model.add(layers.Conv2D(64, (3, 3), activation='relu'))\n",
    "model.add(layers.MaxPooling2D((2, 2)))\n",
    "\n",
    "model.add(layers.Conv2D(128,(3,3),activation='relu'))\n",
    "model.add(layers.MaxPooling2D((2, 2)))\n",
    "\n",
    "model.add(layers.Flatten())\n",
    "model.add(layers.Dropout(0.25) )# supprimer aléatoirement un certain nombre de neuronne de temps à autres \n",
    "model.add(layers.Dense(256, activation='sigmoid'))\n",
    "\n",
    "model.add(layers.Dense(2, activation='softmax')) #2 sorties"
   ]
  },
  {
   "cell_type": "markdown",
   "metadata": {},
   "source": [
    "On a obtenu comme résultat : "
   ]
  },
  {
   "cell_type": "code",
   "execution_count": 5,
   "metadata": {},
   "outputs": [
    {
     "name": "stdout",
     "output_type": "stream",
     "text": [
      "Valeur moyenne de l'epoch : 9.545454545454545\n",
      "Valeur moyenne de l'accuracy : 0.6630999999999999\n",
      "Valeur moyenne du score : [0.57287289 0.4271271 ]\n"
     ]
    }
   ],
   "source": [
    "import numpy as np\n",
    "\n",
    "# Données\n",
    "analyse = [\n",
    "    {'epoch': 6, 'accuracy': 0.908, 'score': [0.8012544, 0.19874555]},\n",
    "    { 'epoch': 5, 'accuracy': 0.6170, 'score': [0.04617493, 0.95382506]},\n",
    "    {'epoch': 8, 'accuracy': 0.867, 'score': [0.683069, 0.31693095]},\n",
    "    {'epoch': 16, 'accuracy': 0.607, 'score': [0.43023983, 0.56976014]},\n",
    "    { 'epoch': 11, 'accuracy': 0.682, 'score': [0.6287904, 0.37120968]},\n",
    "    {'epoch': 11, 'accuracy': 0.543, 'score': [0.6085092, 0.39149076]},\n",
    "    {'epoch': 11, 'accuracy': 0.4793, 'score': [0.5246873, 0.4753127]},\n",
    "    {'epoch': 10, 'accuracy': 0.8501, 'score': [0.62849534, 0.3715047]},\n",
    "    {'epoch': 9, 'accuracy': 0.446, 'score': [0.6067841, 0.39321592]},\n",
    "    {'epoch': 10, 'accuracy': 0.9277,'score': [0.762757, 0.23724292]},\n",
    "    {'epoch': 8, 'accuracy': 0.367, 'score': [0.5808403, 0.41915968]}\n",
    "]\n",
    "\n",
    "# Calcul des moyennes\n",
    "mean_epoch = np.mean([a['epoch'] for a in analyse])\n",
    "mean_accuracy = np.mean([a['accuracy'] for a in analyse])\n",
    "mean_score = np.mean([a['score'] for a in analyse], axis=0)\n",
    "\n",
    "print(f\"Valeur moyenne de l'epoch : {mean_epoch}\")\n",
    "print(f\"Valeur moyenne de l'accuracy : {mean_accuracy}\")\n",
    "print(f\"Valeur moyenne du score : {mean_score}\")"
   ]
  },
  {
   "cell_type": "markdown",
   "metadata": {},
   "source": [
    "Au vu des résultats des différentes moyennes, nous avons trouvé des scores assez proches et la probabilité moyenne que la personne soit saine est bien inférieure à 0.5. \n",
    "\n",
    "De plus, la précision du modèle est de 66,31%, ce qui indique que le modèle a une performance relativement bonne dans la classification. \n",
    "\n",
    "Enfin, pour ce qui est des epochs, le modèle a été entraîné en moyenne pendant 9.54 epochs.\n",
    "\n",
    "Nous allons donc continuer à modifier les couches de convolutions."
   ]
  },
  {
   "cell_type": "markdown",
   "metadata": {},
   "source": [
    "**Ajout de la couche de convolution 512 seule :**"
   ]
  },
  {
   "cell_type": "code",
   "execution_count": null,
   "metadata": {},
   "outputs": [],
   "source": [
    "#A voir avec tom comment il a ajouté la 512"
   ]
  },
  {
   "cell_type": "markdown",
   "metadata": {},
   "source": [
    "On a obtenu comme résultat : "
   ]
  },
  {
   "cell_type": "code",
   "execution_count": 6,
   "metadata": {},
   "outputs": [
    {
     "name": "stdout",
     "output_type": "stream",
     "text": [
      "Moyenne des epochs : 7.3\n",
      "Moyenne des accuracies : 0.62267\n",
      "Moyenne des scores : [0.54450076 0.45549927]\n"
     ]
    }
   ],
   "source": [
    "import numpy as np\n",
    "\n",
    "# Données\n",
    "data = [\n",
    "    {'epoch': 8, 'accuracy': 0.6909, 'score': [0.60394996, 0.39605004]},\n",
    "    {'epoch': 6, 'accuracy': 0.5750, 'score': [0.6439847, 0.35601535]},\n",
    "    {'epoch': 6, 'accuracy': 0.5217, 'score': [0.31638965, 0.68361044]},\n",
    "    {'epoch': 12, 'accuracy': 0.6375, 'score': [0.55958575, 0.44041422]},\n",
    "    {'epoch': 7, 'accuracy': 0.5726, 'score': [0.42245528, 0.57754475]},\n",
    "    {'epoch': 9, 'accuracy': 0.7670, 'score': [0.6072853, 0.3927147]},\n",
    "    {'epoch': 6, 'accuracy': 0.7837, 'score': [0.597068, 0.402932]},\n",
    "    {'epoch': 6, 'accuracy': 0.6512, 'score': [0.457304, 0.54269606]},\n",
    "    {'epoch': 7, 'accuracy': 0.5336, 'score': [0.5766429, 0.42335722]},\n",
    "    {'epoch': 6, 'accuracy': 0.4935, 'score': [0.6603421, 0.3396579]}\n",
    "]\n",
    "\n",
    "# Calcul des moyennes\n",
    "mean_epoch = np.mean([d['epoch'] for d in data])\n",
    "mean_accuracy = np.mean([d['accuracy'] for d in data])\n",
    "mean_score = np.mean([d['score'] for d in data], axis=0)\n",
    "\n",
    "print(f\"Moyenne des epochs : {mean_epoch}\")\n",
    "print(f\"Moyenne des accuracies : {mean_accuracy}\")\n",
    "print(f\"Moyenne des scores : {mean_score}\")"
   ]
  },
  {
   "cell_type": "markdown",
   "metadata": {},
   "source": [
    "On a obtenu comme résultat : "
   ]
  },
  {
   "cell_type": "markdown",
   "metadata": {},
   "source": [
    "Au vu des résultats des différentes moyennes, nous avons trouvé des scores assez proches et la probabilité moyenne que la personne soit saine est bien inférieure à 0.5.\n",
    "\n",
    "De plus, la précision du modèle est de 62,27%, ce qui indique que le modèle a une performance modérée dans la classification.\n",
    "\n",
    "Enfin, pour ce qui est des epochs, le modèle a été entraîné en moyenne pendant 7.3 epochs.\n",
    "\n",
    "Nous allons donc continuer à modifier les couches de convolutions."
   ]
  },
  {
   "cell_type": "markdown",
   "metadata": {},
   "source": [
    "**Lancement avec les couches 128 et 32 :**"
   ]
  },
  {
   "cell_type": "code",
   "execution_count": null,
   "metadata": {},
   "outputs": [],
   "source": [
    "model = Sequential() \n",
    "model.add(layers.Conv2D(256, (3, 3), activation='relu',input_shape=(227, 227, 3)))\n",
    "model.add(layers.MaxPooling2D((2, 2)))\n",
    "\n",
    "model.add(layers.Conv2D(64, (3, 3), activation='relu'))\n",
    "model.add(layers.MaxPooling2D((2, 2)))\n",
    "\n",
    "model.add(layers.Conv2D(128,(3,3),activation='relu'))\n",
    "model.add(layers.MaxPooling2D((2, 2)))\n",
    "\n",
    "model.add(layers.Conv2D(32,(3,3),activation='relu'))\n",
    "model.add(layers.MaxPooling2D((2, 2)))\n",
    "\n",
    "model.add(layers.Flatten())\n",
    "model.add(layers.Dropout(0.25) )# supprimer aléatoirement un certain nombre de neuronne de temps à autres \n",
    "model.add(layers.Dense(256, activation='sigmoid'))\n",
    "\n",
    "model.add(layers.Dense(2, activation='softmax')) #2 sorties"
   ]
  },
  {
   "cell_type": "markdown",
   "metadata": {},
   "source": [
    "On a obtenu comme résultat : "
   ]
  },
  {
   "cell_type": "code",
   "execution_count": 7,
   "metadata": {},
   "outputs": [
    {
     "name": "stdout",
     "output_type": "stream",
     "text": [
      "Moyenne des epochs : 8.1\n",
      "Moyenne des accuracies : 0.7127899999999999\n",
      "Moyenne des scores : [0.62427666 0.37572335]\n"
     ]
    }
   ],
   "source": [
    "import numpy as np\n",
    "\n",
    "# Données\n",
    "data = [\n",
    "    {'epoch': 10, 'accuracy': 0.5561, 'score': [0.5452215, 0.45477852]},\n",
    "    {'epoch': 8, 'accuracy': 0.6487, 'score': [0.56469095, 0.4353091]},\n",
    "    {'epoch': 8, 'accuracy': 0.8353, 'score': [0.58245367, 0.4175463]},\n",
    "    {'epoch': 8, 'accuracy': 0.8704, 'score': [0.7302041, 0.26979592]},\n",
    "    {'epoch': 8, 'accuracy': 0.8688, 'score': [0.6371897, 0.3628103]},\n",
    "    {'epoch': 9, 'accuracy': 0.7376, 'score': [0.64389855, 0.35610145]},\n",
    "    {'epoch': 6, 'accuracy': 0.7605, 'score': [0.5903869, 0.40961313]},\n",
    "    {'epoch': 10, 'accuracy': 0.7693, 'score': [0.67794544, 0.32205454]},\n",
    "    {'epoch': 7, 'accuracy': 0.5817, 'score': [0.6083199, 0.39168012]},\n",
    "    {'epoch': 7, 'accuracy': 0.4995, 'score': [0.66245586, 0.33754417]}\n",
    "]\n",
    "\n",
    "# Calcul des moyennes\n",
    "mean_epoch = np.mean([d['epoch'] for d in data])\n",
    "mean_accuracy = np.mean([d['accuracy'] for d in data])\n",
    "mean_score = np.mean([d['score'] for d in data], axis=0)\n",
    "\n",
    "print(f\"Moyenne des epochs : {mean_epoch}\")\n",
    "print(f\"Moyenne des accuracies : {mean_accuracy}\")\n",
    "print(f\"Moyenne des scores : {mean_score}\")"
   ]
  },
  {
   "cell_type": "markdown",
   "metadata": {},
   "source": [
    "Au vu des résultats des différentes moyennes, nous avons trouvé des scores assez proches et la probabilité moyenne que la personne soit saine est inférieure à 0.5.\n",
    "\n",
    "De plus, la précision du modèle est de 71,28%, ce qui indique que le modèle a une performance relativement bonne dans la classification.\n",
    "\n",
    "Enfin, pour ce qui est des epochs, le modèle a été entraîné en moyenne pendant 8.1 epochs.\n",
    "\n",
    "Nous allons donc continuer à modifier les couches de convolutions."
   ]
  },
  {
   "cell_type": "markdown",
   "metadata": {},
   "source": [
    "**Lancement avec toutes les couches 512, 256, 128, 64 et 32 :**"
   ]
  },
  {
   "cell_type": "code",
   "execution_count": null,
   "metadata": {},
   "outputs": [],
   "source": [
    "model = Sequential() \n",
    "model.add(layers.Conv2D(512, (3, 3), activation='relu',input_shape=(227, 227, 3)))\n",
    "model.add(layers.MaxPooling2D((2, 2)))\n",
    "\n",
    "model.add(layers.Conv2D(256, (3, 3), activation='relu'))\n",
    "model.add(layers.MaxPooling2D((2, 2)))\n",
    "\n",
    "model.add(layers.Conv2D(64, (3, 3), activation='relu'))\n",
    "model.add(layers.MaxPooling2D((2, 2)))\n",
    "\n",
    "model.add(layers.Conv2D(128,(3,3),activation='relu'))\n",
    "model.add(layers.MaxPooling2D((2, 2)))\n",
    "\n",
    "model.add(layers.Conv2D(32,(3,3),activation='relu'))\n",
    "model.add(layers.MaxPooling2D((2, 2)))\n",
    "\n",
    "model.add(layers.Flatten())\n",
    "model.add(layers.Dropout(0.25) )# supprimer aléatoirement un certain nombre de neuronne de temps à autres \n",
    "model.add(layers.Dense(256, activation='sigmoid'))\n",
    "\n",
    "model.add(layers.Dense(2, activation='softmax')) #2 sorties"
   ]
  },
  {
   "cell_type": "markdown",
   "metadata": {},
   "source": [
    "On a obtenu comme résultat : "
   ]
  },
  {
   "cell_type": "code",
   "execution_count": 8,
   "metadata": {},
   "outputs": [
    {
     "name": "stdout",
     "output_type": "stream",
     "text": [
      "Moyenne des epochs : 10.3\n",
      "Moyenne des accuracies : 0.6912699999999999\n",
      "Moyenne des scores : [0.61564016 0.38435985]\n"
     ]
    }
   ],
   "source": [
    "import numpy as np\n",
    "\n",
    "# Données\n",
    "data = [\n",
    "    {'epoch': 4, 'accuracy': 0.6390, 'score': [0.6140357, 0.38596427]},\n",
    "    {'epoch': 10, 'accuracy': 0.8357, 'score': [0.76182544, 0.23817454]},\n",
    "    {'epoch': 10, 'accuracy': 0.7375, 'score': [0.56576806, 0.43423197]},\n",
    "    {'epoch': 11, 'accuracy': 0.5327, 'score': [0.61365676, 0.3863433]},\n",
    "    {'epoch': 10, 'accuracy': 0.8209, 'score': [0.75682294, 0.24317707]},\n",
    "    {'epoch': 15, 'accuracy': 0.8924, 'score': [0.7663916, 0.23360838]},\n",
    "    {'epoch': 16, 'accuracy': 0.6977, 'score': [0.31213003, 0.68786997]},\n",
    "    {'epoch': 7, 'accuracy': 0.4475, 'score': [0.5297693, 0.4702307]},\n",
    "    {'epoch': 8, 'accuracy': 0.5466, 'score': [0.64698976, 0.35301018]},\n",
    "    {'epoch': 12, 'accuracy': 0.7627, 'score': [0.58901197, 0.4109881]}\n",
    "]\n",
    "\n",
    "# Calcul des moyennes\n",
    "mean_epoch = np.mean([d['epoch'] for d in data])\n",
    "mean_accuracy = np.mean([d['accuracy'] for d in data])\n",
    "mean_score = np.mean([d['score'] for d in data], axis=0)\n",
    "\n",
    "print(f\"Moyenne des epochs : {mean_epoch}\")\n",
    "print(f\"Moyenne des accuracies : {mean_accuracy}\")\n",
    "print(f\"Moyenne des scores : {mean_score}\")"
   ]
  },
  {
   "cell_type": "markdown",
   "metadata": {},
   "source": [
    "Au vu des résultats des différentes moyennes, nous avons trouvé des scores assez proches et la probabilité moyenne que la personne soit saine est inférieure à 0.5.\n",
    "\n",
    "De plus, la précision du modèle est de 69,13%, ce qui indique que le modèle a une performance relativement bonne dans la classification.\n",
    "\n",
    "Enfin, pour ce qui est des epochs, le modèle a été entraîné en moyenne pendant 10.3 epochs.\n",
    "\n",
    "Nous allons donc continuer à modifier les couches de convolutions."
   ]
  },
  {
   "cell_type": "markdown",
   "metadata": {},
   "source": [
    "**Lancement avec les couches 256, 128, 64 et 32 dans l’ordre décroissant**"
   ]
  },
  {
   "cell_type": "code",
   "execution_count": null,
   "metadata": {},
   "outputs": [],
   "source": [
    "model = Sequential() \n",
    "model.add(layers.Conv2D(32, (3, 3), activation='relu',input_shape=(227, 227, 3)))\n",
    "model.add(layers.MaxPooling2D((2, 2)))\n",
    "\n",
    "model.add(layers.Conv2D(64, (3, 3), activation='relu'))\n",
    "model.add(layers.MaxPooling2D((2, 2)))\n",
    "\n",
    "model.add(layers.Conv2D(128,(3,3),activation='relu'))\n",
    "model.add(layers.MaxPooling2D((2, 2)))\n",
    "\n",
    "model.add(layers.Conv2D(256,(3,3),activation='relu'))\n",
    "model.add(layers.MaxPooling2D((2, 2)))\n",
    "\n",
    "model.add(layers.Flatten())\n",
    "model.add(layers.Dropout(0.25) )# supprimer aléatoirement un certain nombre de neuronne de temps à autres \n",
    "model.add(layers.Dense(256, activation='sigmoid'))\n",
    "\n",
    "model.add(layers.Dense(2, activation='softmax')) #2 sorties"
   ]
  },
  {
   "cell_type": "markdown",
   "metadata": {},
   "source": [
    "On a obtenu comme résultat : "
   ]
  },
  {
   "cell_type": "code",
   "execution_count": 8,
   "metadata": {},
   "outputs": [
    {
     "name": "stdout",
     "output_type": "stream",
     "text": [
      "Moyenne des epochs : 8.9\n",
      "Moyenne des accuracies : 0.6692307859659195\n",
      "Moyenne des scores : [0.75752897 0.46276538]\n"
     ]
    }
   ],
   "source": [
    "import numpy as np\n",
    "\n",
    "# Données\n",
    "data = [\n",
    "    {'epoch':14,  'accuracy': 0.4615384638309479, 'score': [0.99128646,0.00871349]},\n",
    "    {'epoch': 7, 'accuracy': 0.5128205418586731, 'score': [0.51562333,0.4843767]},\n",
    "    {'epoch': 13, 'accuracy': 0.7435897588729858, 'score': [0.4909214973449707, 0.33517447113990784]},\n",
    "    {'epoch': 4, 'accuracy': 0.5641025900840759, 'score': [1.6234362125396729, 0.8376262784004211]},\n",
    "    {'epoch': 8, 'accuracy': 0.692307710647583, 'score': [0.5177469253540039, 0.6715239882469177]},\n",
    "    {'epoch': 7, 'accuracy': 0.692307710647583, 'score': [0.9335837364196777, 0.40421444177627563]},\n",
    "    {'epoch': 9, 'accuracy': 0.692307710647583, 'score': [0.6038397550582886, 0.4671053886413574]},\n",
    "    {'epoch': 9, 'accuracy': 0.7692307829856873, 'score': [0.763012170791626, 0.43775051832199097]},\n",
    "    {'epoch': 12, 'accuracy': 0.8461538553237915, 'score': [0.5439642667770386, 0.36931735277175903]},\n",
    "    {'epoch': 6, 'accuracy': 0.7179487347602844, 'score': [0.5918753743171692, 0.6118512153625488]}\n",
    "]\n",
    "\n",
    "# Calcul des moyennes\n",
    "mean_epoch = np.mean([d['epoch'] for d in data])\n",
    "mean_accuracy = np.mean([d['accuracy'] for d in data])\n",
    "mean_score = np.mean([d['score'] for d in data], axis=0)\n",
    "\n",
    "print(f\"Moyenne des epochs : {mean_epoch}\")\n",
    "print(f\"Moyenne des accuracies : {mean_accuracy}\")\n",
    "print(f\"Moyenne des scores : {mean_score}\")"
   ]
  },
  {
   "cell_type": "markdown",
   "metadata": {},
   "source": [
    "*Interprétation*"
   ]
  },
  {
   "cell_type": "markdown",
   "metadata": {},
   "source": [
    "Une précision de 66.92% est modérée. Il est possible d'améliorer cette précision en ajustant les hyperparamètres, en utilisant des techniques de régularisation, ou en augmentant la quantité et la diversité des données d'entraînement.\n",
    "\n",
    "\n",
    "Les pertes d'entraînement et de validation montrent que le modèle apprend, mais il y a encore de la place pour des améliorations. Une perte de validation plus faible que la perte d'entraînement est un bon signe, mais il est important de continuer à surveiller ces métriques pour éviter le surapprentissage ou le sous-apprentissage.\n",
    "\n",
    "\n",
    "Le modèle converge en moyenne en 8.9 époques, ce qui est relativement rapide. Il peut être utile d'augmenter le nombre d'époques ou d'ajuster les critères d'arrêt anticipé pour voir si le modèle peut encore s'améliorer avec plus d'entraînement."
   ]
  }
 ],
 "metadata": {
  "kernelspec": {
   "display_name": "Python 3",
   "language": "python",
   "name": "python3"
  },
  "language_info": {
   "codemirror_mode": {
    "name": "ipython",
    "version": 3
   },
   "file_extension": ".py",
   "mimetype": "text/x-python",
   "name": "python",
   "nbconvert_exporter": "python",
   "pygments_lexer": "ipython3",
   "version": "3.11.0"
  }
 },
 "nbformat": 4,
 "nbformat_minor": 2
}
