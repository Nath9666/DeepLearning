{
 "cells": [
  {
   "cell_type": "code",
   "execution_count": 3,
   "metadata": {},
   "outputs": [],
   "source": [
    "from tensorflow.keras import applications \n",
    "from keras.models import Sequential \n",
    "from keras.layers import Dropout,Dense,Conv2D,GlobalAveragePooling2D \n",
    "from keras.models import Model \n",
    "from tensorflow.keras.optimizers import Adam "
   ]
  },
  {
   "cell_type": "code",
   "execution_count": 4,
   "metadata": {},
   "outputs": [],
   "source": [
    "img_width,img_height=224,224 \n",
    "base_model =applications.VGG19(weights='imagenet',include_top=False,input_shape=(img_width,img_height,3)) \n"
   ]
  },
  {
   "cell_type": "code",
   "execution_count": 5,
   "metadata": {},
   "outputs": [],
   "source": [
    "top_model=Sequential() \n",
    "top_model.add(GlobalAveragePooling2D(input_shape=base_model.output_shape[1:],data_format=None)) \n",
    "top_model.add(Dense(256,activation='relu')) \n",
    "top_model.add(Dropout(0.25)) \n",
    "top_model.add(Dense(1,activation='sigmoid')) \n",
    "model=Model(inputs=base_model.input,outputs=top_model(base_model.output))"
   ]
  }
 ],
 "metadata": {
  "kernelspec": {
   "display_name": "Python 3",
   "language": "python",
   "name": "python3"
  },
  "language_info": {
   "codemirror_mode": {
    "name": "ipython",
    "version": 3
   },
   "file_extension": ".py",
   "mimetype": "text/x-python",
   "name": "python",
   "nbconvert_exporter": "python",
   "pygments_lexer": "ipython3",
   "version": "3.11.0"
  }
 },
 "nbformat": 4,
 "nbformat_minor": 2
}
