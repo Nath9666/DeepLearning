{
 "cells": [
  {
   "cell_type": "markdown",
   "metadata": {},
   "source": [
    "# **Rapport du Tp 1 et 2**\n",
    "\n",
    "Ce rapport a été fait par **Laura Saada**, **Tom Beaupuis**, **Alexandre Béraud** et **Nathan Morel**"
   ]
  },
  {
   "cell_type": "markdown",
   "metadata": {},
   "source": [
    "## LAB 1 CNN"
   ]
  },
  {
   "cell_type": "markdown",
   "metadata": {},
   "source": [
    "Pour pouvoir comparer les différents résultats entre eux, nous avons lancé le code 10 fois pour chaque modification. "
   ]
  },
  {
   "cell_type": "markdown",
   "metadata": {},
   "source": [
    "On a commencé par lancer le code sans le modifier avec les couches 256 et 64."
   ]
  },
  {
   "cell_type": "code",
   "execution_count": 1,
   "metadata": {},
   "outputs": [
    {
     "ename": "NameError",
     "evalue": "name 'Sequential' is not defined",
     "output_type": "error",
     "traceback": [
      "\u001b[1;31m---------------------------------------------------------------------------\u001b[0m",
      "\u001b[1;31mNameError\u001b[0m                                 Traceback (most recent call last)",
      "Cell \u001b[1;32mIn[1], line 1\u001b[0m\n\u001b[1;32m----> 1\u001b[0m model \u001b[38;5;241m=\u001b[39m \u001b[43mSequential\u001b[49m() \n\u001b[0;32m      2\u001b[0m model\u001b[38;5;241m.\u001b[39madd(layers\u001b[38;5;241m.\u001b[39mConv2D(\u001b[38;5;241m256\u001b[39m, (\u001b[38;5;241m3\u001b[39m, \u001b[38;5;241m3\u001b[39m), activation\u001b[38;5;241m=\u001b[39m\u001b[38;5;124m'\u001b[39m\u001b[38;5;124mrelu\u001b[39m\u001b[38;5;124m'\u001b[39m,input_shape\u001b[38;5;241m=\u001b[39m(\u001b[38;5;241m227\u001b[39m, \u001b[38;5;241m227\u001b[39m, \u001b[38;5;241m3\u001b[39m)))\n\u001b[0;32m      3\u001b[0m model\u001b[38;5;241m.\u001b[39madd(layers\u001b[38;5;241m.\u001b[39mMaxPooling2D((\u001b[38;5;241m2\u001b[39m, \u001b[38;5;241m2\u001b[39m)))\n",
      "\u001b[1;31mNameError\u001b[0m: name 'Sequential' is not defined"
     ]
    }
   ],
   "source": [
    "model = Sequential() \n",
    "model.add(layers.Conv2D(256, (3, 3), activation='relu',input_shape=(227, 227, 3)))\n",
    "model.add(layers.MaxPooling2D((2, 2)))\n",
    "\n",
    "model.add(layers.Conv2D(64, (3, 3), activation='relu'))\n",
    "model.add(layers.MaxPooling2D((2, 2)))\n",
    "\n",
    "model.add(layers.Flatten())\n",
    "model.add(layers.Dropout(0.25) )# supprimer aléatoirement un certain nombre de neuronne de temps à autres \n",
    "model.add(layers.Dense(256, activation='sigmoid'))\n",
    "\n",
    "model.add(layers.Dense(2, activation='softmax')) #2 sorties"
   ]
  },
  {
   "cell_type": "markdown",
   "metadata": {},
   "source": [
    "On a obtenu comme résultat : "
   ]
  },
  {
   "cell_type": "code",
   "execution_count": 24,
   "metadata": {},
   "outputs": [
    {
     "name": "stdout",
     "output_type": "stream",
     "text": [
      "Moyenne des epochs : 8.1\n",
      "Moyenne des accuracies : 0.58888\n",
      "Moyenne des scores : [0.53067537 0.46932462]\n"
     ]
    }
   ],
   "source": [
    "import numpy as np\n",
    "\n",
    "# Données\n",
    "data = [\n",
    "    {'epoch': 5, 'accuracy': 0.7149, 'score': [0.37848124, 0.6215187]},\n",
    "    {'epoch': 8, 'accuracy': 0.3643, 'score': [0.5260988, 0.47390118]},\n",
    "    {'epoch': 10, 'accuracy': 0.5810, 'score': [0.4895171, 0.51048297]},\n",
    "    {'epoch': 9, 'accuracy': 0.6602, 'score': [0.4531347, 0.5468653]},\n",
    "    {'epoch': 13, 'accuracy': 0.7890, 'score': [0.63048774, 0.3695122]},\n",
    "    {'epoch': 9, 'accuracy': 0.3260, 'score': [0.4558533, 0.54414666]},\n",
    "    {'epoch': 8, 'accuracy': 0.5365, 'score': [0.5642779, 0.43572208]},\n",
    "    {'epoch': 6, 'accuracy': 0.6192, 'score': [0.5500377, 0.44996232]},\n",
    "    {'epoch': 5, 'accuracy': 0.5083, 'score': [0.5901012, 0.40989885]},\n",
    "    {'epoch': 8, 'accuracy': 0.7894, 'score': [0.66876405, 0.33123592]}\n",
    "]\n",
    "\n",
    "# Calcul des moyennes\n",
    "mean_epoch = np.mean([d['epoch'] for d in data])\n",
    "mean_accuracy = np.mean([d['accuracy'] for d in data])\n",
    "mean_score = np.mean([d['score'] for d in data], axis=0)\n",
    "\n",
    "print(f\"Moyenne des epochs : {mean_epoch}\")\n",
    "print(f\"Moyenne des accuracies : {mean_accuracy}\")\n",
    "print(f\"Moyenne des scores : {mean_score}\")"
   ]
  },
  {
   "cell_type": "markdown",
   "metadata": {},
   "source": [
    "Au vu des résultats des différentes moyennes, nous ne sommes pas satisfait du résultat car nous avons trouvé des scores assez proches et que la probabilité moyenne que la personne soit saine est bien inférieur à 0.5. \n",
    "\n",
    "De plus la précision du modèle est de 58,88% ce qui indique que le modèle a une performance modérée dans la classification. \n",
    "\n",
    "Enfin pour ce qui est des epochs, le modèle à été entraîné en moyenne pendant 8,1 epochs (cela va nous servir de modèle de comparaison pour les prochaines modifications que l'on va appliquer au modèle).\n",
    "\n",
    "Nous avons donc décidé d’ajouter différentes couches de convolution pour voir l'impacte que cela pouvait avoir."
   ]
  },
  {
   "cell_type": "markdown",
   "metadata": {},
   "source": [
    "**Ajout de la couche de convolution 32 seule :**"
   ]
  },
  {
   "cell_type": "code",
   "execution_count": null,
   "metadata": {},
   "outputs": [],
   "source": [
    "model = Sequential() \n",
    "model.add(layers.Conv2D(256, (3, 3), activation='relu',input_shape=(227, 227, 3)))\n",
    "model.add(layers.MaxPooling2D((2, 2)))\n",
    "\n",
    "model.add(layers.Conv2D(64, (3, 3), activation='relu'))\n",
    "model.add(layers.MaxPooling2D((2, 2)))\n",
    "\n",
    "model.add(layers.Conv2D(32,(3,3),activation='relu'))\n",
    "model.add(layers.MaxPooling2D((2, 2)))\n",
    "\n",
    "model.add(layers.Flatten())\n",
    "model.add(layers.Dropout(0.25) )# supprimer aléatoirement un certain nombre de neuronne de temps à autres \n",
    "model.add(layers.Dense(256, activation='sigmoid'))\n",
    "\n",
    "model.add(layers.Dense(2, activation='softmax')) #2 sorties"
   ]
  },
  {
   "cell_type": "markdown",
   "metadata": {},
   "source": [
    "On a obtenu comme résultat : "
   ]
  },
  {
   "cell_type": "code",
   "execution_count": 25,
   "metadata": {},
   "outputs": [
    {
     "name": "stdout",
     "output_type": "stream",
     "text": [
      "Moyenne des epochs : 9.4\n",
      "Moyenne des accuracies : 0.6413300000000001\n",
      "Moyenne des scores : [0.68133218 0.31866783]\n"
     ]
    }
   ],
   "source": [
    "import numpy as np\n",
    "\n",
    "# Données\n",
    "data = [\n",
    "    {'epoch': 6, 'accuracy': 0.7369, 'score': [0.9290923, 0.07090775]},\n",
    "    {'epoch': 10, 'accuracy': 0.5822, 'score': [0.61234456, 0.38765544]},\n",
    "    {'epoch': 12, 'accuracy': 0.8176, 'score': [0.73632425, 0.26367578]},\n",
    "    {'epoch': 8, 'accuracy': 0.6567, 'score': [0.77019256, 0.22980745]},\n",
    "    {'epoch': 12, 'accuracy': 0.7541, 'score': [0.69181615, 0.30818385]},\n",
    "    {'epoch': 9, 'accuracy': 0.6603, 'score': [0.58460623, 0.41539377]},\n",
    "    {'epoch': 9, 'accuracy': 0.3203, 'score': [0.5478195, 0.4521805]},\n",
    "    {'epoch': 6, 'accuracy': 0.7546, 'score': [0.68093723, 0.31906277]},\n",
    "    {'epoch': 5, 'accuracy': 0.4271, 'score': [0.6728345, 0.3271655]},\n",
    "    {'epoch': 17, 'accuracy': 0.7035, 'score': [0.58735454, 0.41264546]}\n",
    "]\n",
    "\n",
    "# Calcul des moyennes\n",
    "mean_epoch = np.mean([d['epoch'] for d in data])\n",
    "mean_accuracy = np.mean([d['accuracy'] for d in data])\n",
    "mean_score = np.mean([d['score'] for d in data], axis=0)\n",
    "\n",
    "print(f\"Moyenne des epochs : {mean_epoch}\")\n",
    "print(f\"Moyenne des accuracies : {mean_accuracy}\")\n",
    "print(f\"Moyenne des scores : {mean_score}\")"
   ]
  },
  {
   "cell_type": "markdown",
   "metadata": {},
   "source": [
    "Au vu des résultats des différentes moyennes, nous avons trouvé des scores assez proches et la probabilité moyenne que la personne soit saine est  inférieure à 0.5. \n",
    "\n",
    "De plus, la précision du modèle est de 64,13%, ce qui indique que le modèle a une performance relativement bonne dans la classification. \n",
    "\n",
    "Enfin, pour ce qui est des epochs, le modèle a été entraîné en moyenne pendant 9.4 epochs. On peut donc voir que l'ajout d'un layer en plus a permis d'améliorer très légèrement le modèle mais que cela a demandé en moyenne plus de temps d'apprentissage.\n",
    "\n",
    "Nous allons donc continuer à modifier les couches de convolutions"
   ]
  },
  {
   "cell_type": "markdown",
   "metadata": {},
   "source": [
    "**Ajout de la couche de convolution 128 seule :** "
   ]
  },
  {
   "cell_type": "code",
   "execution_count": null,
   "metadata": {},
   "outputs": [],
   "source": [
    "model = Sequential() \n",
    "model.add(layers.Conv2D(256, (3, 3), activation='relu',input_shape=(227, 227, 3)))\n",
    "model.add(layers.MaxPooling2D((2, 2)))\n",
    "\n",
    "model.add(layers.Conv2D(64, (3, 3), activation='relu'))\n",
    "model.add(layers.MaxPooling2D((2, 2)))\n",
    "\n",
    "model.add(layers.Conv2D(128,(3,3),activation='relu'))\n",
    "model.add(layers.MaxPooling2D((2, 2)))\n",
    "\n",
    "model.add(layers.Flatten())\n",
    "model.add(layers.Dropout(0.25) )# supprimer aléatoirement un certain nombre de neuronne de temps à autres \n",
    "model.add(layers.Dense(256, activation='sigmoid'))\n",
    "\n",
    "model.add(layers.Dense(2, activation='softmax')) #2 sorties"
   ]
  },
  {
   "cell_type": "markdown",
   "metadata": {},
   "source": [
    "On a obtenu comme résultat : "
   ]
  },
  {
   "cell_type": "code",
   "execution_count": 26,
   "metadata": {},
   "outputs": [
    {
     "name": "stdout",
     "output_type": "stream",
     "text": [
      "Valeur moyenne de l'epoch : 9.545454545454545\n",
      "Valeur moyenne de l'accuracy : 0.6630999999999999\n",
      "Valeur moyenne du score : [0.57287289 0.4271271 ]\n"
     ]
    }
   ],
   "source": [
    "import numpy as np\n",
    "\n",
    "# Données\n",
    "analyse = [\n",
    "    {'epoch': 6, 'accuracy': 0.908, 'score': [0.8012544, 0.19874555]},\n",
    "    { 'epoch': 5, 'accuracy': 0.6170, 'score': [0.04617493, 0.95382506]},\n",
    "    {'epoch': 8, 'accuracy': 0.867, 'score': [0.683069, 0.31693095]},\n",
    "    {'epoch': 16, 'accuracy': 0.607, 'score': [0.43023983, 0.56976014]},\n",
    "    { 'epoch': 11, 'accuracy': 0.682, 'score': [0.6287904, 0.37120968]},\n",
    "    {'epoch': 11, 'accuracy': 0.543, 'score': [0.6085092, 0.39149076]},\n",
    "    {'epoch': 11, 'accuracy': 0.4793, 'score': [0.5246873, 0.4753127]},\n",
    "    {'epoch': 10, 'accuracy': 0.8501, 'score': [0.62849534, 0.3715047]},\n",
    "    {'epoch': 9, 'accuracy': 0.446, 'score': [0.6067841, 0.39321592]},\n",
    "    {'epoch': 10, 'accuracy': 0.9277,'score': [0.762757, 0.23724292]},\n",
    "    {'epoch': 8, 'accuracy': 0.367, 'score': [0.5808403, 0.41915968]}\n",
    "]\n",
    "\n",
    "# Calcul des moyennes\n",
    "mean_epoch = np.mean([a['epoch'] for a in analyse])\n",
    "mean_accuracy = np.mean([a['accuracy'] for a in analyse])\n",
    "mean_score = np.mean([a['score'] for a in analyse], axis=0)\n",
    "\n",
    "print(f\"Valeur moyenne de l'epoch : {mean_epoch}\")\n",
    "print(f\"Valeur moyenne de l'accuracy : {mean_accuracy}\")\n",
    "print(f\"Valeur moyenne du score : {mean_score}\")"
   ]
  },
  {
   "cell_type": "markdown",
   "metadata": {},
   "source": [
    "Au vu des résultats des différentes moyennes, nous avons trouvé des scores assez proches et la probabilité moyenne que la personne soit saine est bien inférieure à 0.5. \n",
    "\n",
    "De plus, la précision du modèle est de 66,31%, ce qui indique que le modèle a une performance relativement bonne dans la classification. \n",
    "\n",
    "Enfin, pour ce qui est des epochs, le modèle a été entraîné en moyenne pendant 9.54 epochs.\n",
    "\n",
    "Nous allons donc continuer à modifier les couches de convolutions."
   ]
  },
  {
   "cell_type": "markdown",
   "metadata": {},
   "source": [
    "**Ajout de la couche de convolution 512 seule :**"
   ]
  },
  {
   "cell_type": "markdown",
   "metadata": {},
   "source": [
    "On a obtenu comme résultat : "
   ]
  },
  {
   "cell_type": "code",
   "execution_count": 27,
   "metadata": {},
   "outputs": [
    {
     "name": "stdout",
     "output_type": "stream",
     "text": [
      "Moyenne des epochs : 7.3\n",
      "Moyenne des accuracies : 0.62267\n",
      "Moyenne des scores : [0.54450076 0.45549927]\n"
     ]
    }
   ],
   "source": [
    "import numpy as np\n",
    "\n",
    "# Données\n",
    "data = [\n",
    "    {'epoch': 8, 'accuracy': 0.6909, 'score': [0.60394996, 0.39605004]},\n",
    "    {'epoch': 6, 'accuracy': 0.5750, 'score': [0.6439847, 0.35601535]},\n",
    "    {'epoch': 6, 'accuracy': 0.5217, 'score': [0.31638965, 0.68361044]},\n",
    "    {'epoch': 12, 'accuracy': 0.6375, 'score': [0.55958575, 0.44041422]},\n",
    "    {'epoch': 7, 'accuracy': 0.5726, 'score': [0.42245528, 0.57754475]},\n",
    "    {'epoch': 9, 'accuracy': 0.7670, 'score': [0.6072853, 0.3927147]},\n",
    "    {'epoch': 6, 'accuracy': 0.7837, 'score': [0.597068, 0.402932]},\n",
    "    {'epoch': 6, 'accuracy': 0.6512, 'score': [0.457304, 0.54269606]},\n",
    "    {'epoch': 7, 'accuracy': 0.5336, 'score': [0.5766429, 0.42335722]},\n",
    "    {'epoch': 6, 'accuracy': 0.4935, 'score': [0.6603421, 0.3396579]}\n",
    "]\n",
    "\n",
    "# Calcul des moyennes\n",
    "mean_epoch = np.mean([d['epoch'] for d in data])\n",
    "mean_accuracy = np.mean([d['accuracy'] for d in data])\n",
    "mean_score = np.mean([d['score'] for d in data], axis=0)\n",
    "\n",
    "print(f\"Moyenne des epochs : {mean_epoch}\")\n",
    "print(f\"Moyenne des accuracies : {mean_accuracy}\")\n",
    "print(f\"Moyenne des scores : {mean_score}\")"
   ]
  },
  {
   "cell_type": "markdown",
   "metadata": {},
   "source": [
    "On a obtenu comme résultat : "
   ]
  },
  {
   "cell_type": "markdown",
   "metadata": {},
   "source": [
    "Au vu des résultats des différentes moyennes, nous avons trouvé des scores assez proches et la probabilité moyenne que la personne soit saine est bien inférieure à 0.5.\n",
    "\n",
    "De plus, la précision du modèle est de 62,27%, ce qui indique que le modèle a une performance modérée dans la classification.\n",
    "\n",
    "Enfin, pour ce qui est des epochs, le modèle a été entraîné en moyenne pendant 7.3 epochs.\n",
    "\n",
    "Nous allons donc continuer à modifier les couches de convolutions."
   ]
  },
  {
   "cell_type": "markdown",
   "metadata": {},
   "source": [
    "**Lancement avec les couches 128 et 32 :**"
   ]
  },
  {
   "cell_type": "code",
   "execution_count": null,
   "metadata": {},
   "outputs": [],
   "source": [
    "model = Sequential() \n",
    "model.add(layers.Conv2D(256, (3, 3), activation='relu',input_shape=(227, 227, 3)))\n",
    "model.add(layers.MaxPooling2D((2, 2)))\n",
    "\n",
    "model.add(layers.Conv2D(64, (3, 3), activation='relu'))\n",
    "model.add(layers.MaxPooling2D((2, 2)))\n",
    "\n",
    "model.add(layers.Conv2D(128,(3,3),activation='relu'))\n",
    "model.add(layers.MaxPooling2D((2, 2)))\n",
    "\n",
    "model.add(layers.Conv2D(32,(3,3),activation='relu'))\n",
    "model.add(layers.MaxPooling2D((2, 2)))\n",
    "\n",
    "model.add(layers.Flatten())\n",
    "model.add(layers.Dropout(0.25) )# supprimer aléatoirement un certain nombre de neuronne de temps à autres \n",
    "model.add(layers.Dense(256, activation='sigmoid'))\n",
    "\n",
    "model.add(layers.Dense(2, activation='softmax')) #2 sorties"
   ]
  },
  {
   "cell_type": "markdown",
   "metadata": {},
   "source": [
    "On a obtenu comme résultat : "
   ]
  },
  {
   "cell_type": "code",
   "execution_count": 28,
   "metadata": {},
   "outputs": [
    {
     "name": "stdout",
     "output_type": "stream",
     "text": [
      "Moyenne des epochs : 8.1\n",
      "Moyenne des accuracies : 0.7127899999999999\n",
      "Moyenne des scores : [0.62427666 0.37572335]\n"
     ]
    }
   ],
   "source": [
    "import numpy as np\n",
    "\n",
    "# Données\n",
    "data = [\n",
    "    {'epoch': 10, 'accuracy': 0.5561, 'score': [0.5452215, 0.45477852]},\n",
    "    {'epoch': 8, 'accuracy': 0.6487, 'score': [0.56469095, 0.4353091]},\n",
    "    {'epoch': 8, 'accuracy': 0.8353, 'score': [0.58245367, 0.4175463]},\n",
    "    {'epoch': 8, 'accuracy': 0.8704, 'score': [0.7302041, 0.26979592]},\n",
    "    {'epoch': 8, 'accuracy': 0.8688, 'score': [0.6371897, 0.3628103]},\n",
    "    {'epoch': 9, 'accuracy': 0.7376, 'score': [0.64389855, 0.35610145]},\n",
    "    {'epoch': 6, 'accuracy': 0.7605, 'score': [0.5903869, 0.40961313]},\n",
    "    {'epoch': 10, 'accuracy': 0.7693, 'score': [0.67794544, 0.32205454]},\n",
    "    {'epoch': 7, 'accuracy': 0.5817, 'score': [0.6083199, 0.39168012]},\n",
    "    {'epoch': 7, 'accuracy': 0.4995, 'score': [0.66245586, 0.33754417]}\n",
    "]\n",
    "\n",
    "# Calcul des moyennes\n",
    "mean_epoch = np.mean([d['epoch'] for d in data])\n",
    "mean_accuracy = np.mean([d['accuracy'] for d in data])\n",
    "mean_score = np.mean([d['score'] for d in data], axis=0)\n",
    "\n",
    "print(f\"Moyenne des epochs : {mean_epoch}\")\n",
    "print(f\"Moyenne des accuracies : {mean_accuracy}\")\n",
    "print(f\"Moyenne des scores : {mean_score}\")"
   ]
  },
  {
   "cell_type": "markdown",
   "metadata": {},
   "source": [
    "Au vu des résultats des différentes moyennes, nous avons trouvé des scores assez proches et la probabilité moyenne que la personne soit saine est inférieure à 0.5.\n",
    "\n",
    "De plus, la précision du modèle est de 71,28%, ce qui indique que le modèle a une performance relativement bonne dans la classification.\n",
    "\n",
    "Enfin, pour ce qui est des epochs, le modèle a été entraîné en moyenne pendant 8.1 epochs.\n",
    "\n",
    "Nous allons donc continuer à modifier les couches de convolutions."
   ]
  },
  {
   "cell_type": "markdown",
   "metadata": {},
   "source": [
    "**Lancement avec toutes les couches 512, 256, 128, 64 et 32 :**"
   ]
  },
  {
   "cell_type": "code",
   "execution_count": null,
   "metadata": {},
   "outputs": [],
   "source": [
    "model = Sequential() \n",
    "model.add(layers.Conv2D(512, (3, 3), activation='relu',input_shape=(227, 227, 3)))\n",
    "model.add(layers.MaxPooling2D((2, 2)))\n",
    "\n",
    "model.add(layers.Conv2D(256, (3, 3), activation='relu'))\n",
    "model.add(layers.MaxPooling2D((2, 2)))\n",
    "\n",
    "model.add(layers.Conv2D(64, (3, 3), activation='relu'))\n",
    "model.add(layers.MaxPooling2D((2, 2)))\n",
    "\n",
    "model.add(layers.Conv2D(128,(3,3),activation='relu'))\n",
    "model.add(layers.MaxPooling2D((2, 2)))\n",
    "\n",
    "model.add(layers.Conv2D(32,(3,3),activation='relu'))\n",
    "model.add(layers.MaxPooling2D((2, 2)))\n",
    "\n",
    "model.add(layers.Flatten())\n",
    "model.add(layers.Dropout(0.25) )# supprimer aléatoirement un certain nombre de neuronne de temps à autres \n",
    "model.add(layers.Dense(256, activation='sigmoid'))\n",
    "\n",
    "model.add(layers.Dense(2, activation='softmax')) #2 sorties"
   ]
  },
  {
   "cell_type": "markdown",
   "metadata": {},
   "source": [
    "On a obtenu comme résultat : "
   ]
  },
  {
   "cell_type": "code",
   "execution_count": 29,
   "metadata": {},
   "outputs": [
    {
     "name": "stdout",
     "output_type": "stream",
     "text": [
      "Moyenne des epochs : 10.3\n",
      "Moyenne des accuracies : 0.6912699999999999\n",
      "Moyenne des scores : [0.61564016 0.38435985]\n"
     ]
    }
   ],
   "source": [
    "import numpy as np\n",
    "\n",
    "# Données\n",
    "data = [\n",
    "    {'epoch': 4, 'accuracy': 0.6390, 'score': [0.6140357, 0.38596427]},\n",
    "    {'epoch': 10, 'accuracy': 0.8357, 'score': [0.76182544, 0.23817454]},\n",
    "    {'epoch': 10, 'accuracy': 0.7375, 'score': [0.56576806, 0.43423197]},\n",
    "    {'epoch': 11, 'accuracy': 0.5327, 'score': [0.61365676, 0.3863433]},\n",
    "    {'epoch': 10, 'accuracy': 0.8209, 'score': [0.75682294, 0.24317707]},\n",
    "    {'epoch': 15, 'accuracy': 0.8924, 'score': [0.7663916, 0.23360838]},\n",
    "    {'epoch': 16, 'accuracy': 0.6977, 'score': [0.31213003, 0.68786997]},\n",
    "    {'epoch': 7, 'accuracy': 0.4475, 'score': [0.5297693, 0.4702307]},\n",
    "    {'epoch': 8, 'accuracy': 0.5466, 'score': [0.64698976, 0.35301018]},\n",
    "    {'epoch': 12, 'accuracy': 0.7627, 'score': [0.58901197, 0.4109881]}\n",
    "]\n",
    "\n",
    "# Calcul des moyennes\n",
    "mean_epoch = np.mean([d['epoch'] for d in data])\n",
    "mean_accuracy = np.mean([d['accuracy'] for d in data])\n",
    "mean_score = np.mean([d['score'] for d in data], axis=0)\n",
    "\n",
    "print(f\"Moyenne des epochs : {mean_epoch}\")\n",
    "print(f\"Moyenne des accuracies : {mean_accuracy}\")\n",
    "print(f\"Moyenne des scores : {mean_score}\")"
   ]
  },
  {
   "cell_type": "markdown",
   "metadata": {},
   "source": [
    "Au vu des résultats des différentes moyennes, nous avons trouvé des scores assez proches et la probabilité moyenne que la personne soit saine est inférieure à 0.5.\n",
    "\n",
    "De plus, la précision du modèle est de 69,13%, ce qui indique que le modèle a une performance relativement bonne dans la classification.\n",
    "\n",
    "Enfin, pour ce qui est des epochs, le modèle a été entraîné en moyenne pendant 10.3 epochs.\n",
    "\n",
    "Nous allons donc continuer à modifier les couches de convolutions."
   ]
  },
  {
   "cell_type": "markdown",
   "metadata": {},
   "source": [
    "**Lancement avec les couches 256, 128, 64 et 32 dans l’ordre décroissant**\n",
    "\n",
    "Avec l'équipe, on a réfléchi sur le fonctionnement des layers. On applique à une image donnée un kernel d'une taille particulière pour détecter des éléments de l'image. Cependant, plus on ajoute de filtre, plus on essaye d'aller chercher des détails particuliers et précis. En effet, les premiers layers vont permettre de détecter les éléments les plus simples de l'image (rond, ligne droite, bords, ...). Il n'est donc pas nécessaire d'appliquer des layers d'une profondeur extrêmement importante dès le premier layer. De plus, après chaque layer nous utlisons un MaxPooling2D qui a pour objectif de diviser la taille de l'image par 2 (en divisant le nombre de pixel). En appliquant des layers profonds (256, 512, ...) vers la fin, la taille de l'image sera réduite et demandera alors moins de temps d'analyse et d'apprenstissage. Ainsi, en utilisant un systême de layer classé en taille décroissante, on pourrait mieux appréhender les formes et accélerer le temps d'apprentissage."
   ]
  },
  {
   "cell_type": "code",
   "execution_count": null,
   "metadata": {},
   "outputs": [],
   "source": [
    "model = Sequential() \n",
    "model.add(layers.Conv2D(32, (3, 3), activation='relu',input_shape=(227, 227, 3)))\n",
    "model.add(layers.MaxPooling2D((2, 2)))\n",
    "\n",
    "model.add(layers.Conv2D(64, (3, 3), activation='relu'))\n",
    "model.add(layers.MaxPooling2D((2, 2)))\n",
    "\n",
    "model.add(layers.Conv2D(128,(3,3),activation='relu'))\n",
    "model.add(layers.MaxPooling2D((2, 2)))\n",
    "\n",
    "model.add(layers.Conv2D(256,(3,3),activation='relu'))\n",
    "model.add(layers.MaxPooling2D((2, 2)))\n",
    "\n",
    "model.add(layers.Flatten())\n",
    "model.add(layers.Dropout(0.25) )# supprimer aléatoirement un certain nombre de neuronne de temps à autres \n",
    "model.add(layers.Dense(256, activation='sigmoid'))\n",
    "\n",
    "model.add(layers.Dense(2, activation='softmax')) #2 sorties"
   ]
  },
  {
   "cell_type": "markdown",
   "metadata": {},
   "source": [
    "On a obtenu comme résultat : "
   ]
  },
  {
   "cell_type": "code",
   "execution_count": 30,
   "metadata": {},
   "outputs": [
    {
     "name": "stdout",
     "output_type": "stream",
     "text": [
      "Moyenne des epochs : 8.9\n",
      "Moyenne des accuracies : 0.6692307859659195\n",
      "Moyenne des scores : [0.75752897 0.46276538]\n"
     ]
    }
   ],
   "source": [
    "import numpy as np\n",
    "\n",
    "# Données\n",
    "data = [\n",
    "    {'epoch':14,  'accuracy': 0.4615384638309479, 'score': [0.99128646,0.00871349]},\n",
    "    {'epoch': 7, 'accuracy': 0.5128205418586731, 'score': [0.51562333,0.4843767]},\n",
    "    {'epoch': 13, 'accuracy': 0.7435897588729858, 'score': [0.4909214973449707, 0.33517447113990784]},\n",
    "    {'epoch': 4, 'accuracy': 0.5641025900840759, 'score': [1.6234362125396729, 0.8376262784004211]},\n",
    "    {'epoch': 8, 'accuracy': 0.692307710647583, 'score': [0.5177469253540039, 0.6715239882469177]},\n",
    "    {'epoch': 7, 'accuracy': 0.692307710647583, 'score': [0.9335837364196777, 0.40421444177627563]},\n",
    "    {'epoch': 9, 'accuracy': 0.692307710647583, 'score': [0.6038397550582886, 0.4671053886413574]},\n",
    "    {'epoch': 9, 'accuracy': 0.7692307829856873, 'score': [0.763012170791626, 0.43775051832199097]},\n",
    "    {'epoch': 12, 'accuracy': 0.8461538553237915, 'score': [0.5439642667770386, 0.36931735277175903]},\n",
    "    {'epoch': 6, 'accuracy': 0.7179487347602844, 'score': [0.5918753743171692, 0.6118512153625488]}\n",
    "]\n",
    "\n",
    "# Calcul des moyennes\n",
    "mean_epoch = np.mean([d['epoch'] for d in data])\n",
    "mean_accuracy = np.mean([d['accuracy'] for d in data])\n",
    "mean_score = np.mean([d['score'] for d in data], axis=0)\n",
    "\n",
    "print(f\"Moyenne des epochs : {mean_epoch}\")\n",
    "print(f\"Moyenne des accuracies : {mean_accuracy}\")\n",
    "print(f\"Moyenne des scores : {mean_score}\")"
   ]
  },
  {
   "cell_type": "markdown",
   "metadata": {},
   "source": [
    "*Interprétation*"
   ]
  },
  {
   "cell_type": "markdown",
   "metadata": {},
   "source": [
    "Une précision de 66.92% est modérée. Il est possible d'améliorer cette précision en ajustant les hyperparamètres, en utilisant des techniques de régularisation, ou en augmentant la quantité et la diversité des données d'entraînement.\n",
    "\n",
    "\n",
    "Les pertes d'entraînement et de validation montrent que le modèle apprend, mais il y a encore de la place pour des améliorations. Une perte de validation plus faible que la perte d'entraînement est un bon signe, mais il est important de continuer à surveiller ces métriques pour éviter le surapprentissage ou le sous-apprentissage.\n",
    "\n",
    "\n",
    "Le modèle converge en moyenne en 8.9 époques, ce qui est relativement rapide. Il peut être utile d'augmenter le nombre d'époques ou d'ajuster les critères d'arrêt anticipé pour voir si le modèle peut encore s'améliorer avec plus d'entraînement. En effet, comme vu en cours, il est possible qu'avec une patience trop faible, on se bloque au premier minima local que l'on va rencontrer et qui n'est peut être pas le minimum global. Ainsi, en augmentant la patience, on pourrait éviter ce problème et en rencontrer un autre. En effet le risque est d'atteindre les 25 epoches que l'on a fixé arbitrairement dès le début (cela pouvant signifier que l'on commence à sur-entrainer le modèle). Cependant, du fait du changement de patience, on peut également être en sous-apprentissage et cela risque dans les deux cas de fausser notre modèle. Il faut donc augmenter l'epoche (à 50 ou 100) pour voir s'il s'agit d'un problème de sur-apprentissage ou non."
   ]
  },
  {
   "cell_type": "markdown",
   "metadata": {},
   "source": [
    "Lancement avec les couches 256, 128, 64 et 32, avec une patience à 5 et une epoch de 25"
   ]
  },
  {
   "cell_type": "code",
   "execution_count": null,
   "metadata": {},
   "outputs": [],
   "source": [
    "early = EarlyStopping(monitor='val_loss', mode='min', patience=5)\n",
    "learning_rate_reduction = ReduceLROnPlateau(monitor='val_loss', min_lr=0.000001)\n",
    "callbacks_list = [ early, learning_rate_reduction]\n",
    "# model.compile(optimizer = 'adam', loss = 'binary_crossentropy', metrics = ['accuracy'])\n",
    "# si on ne veut pas faire une binary classification, mais plutôt une multiclassification\n",
    "# optimizer = Adam(learning_rate=0.001)\n",
    "model.compile(optimizer = 'adam', loss = 'categorical_crossentropy', metrics = ['accuracy'])\n",
    "history = model.fit(\n",
    "    train_generator,\n",
    "    epochs=25,\n",
    "    validation_data=validation_generator,\n",
    "    callbacks=callbacks_list\n",
    ")"
   ]
  },
  {
   "cell_type": "code",
   "execution_count": null,
   "metadata": {},
   "outputs": [
    {
     "name": "stdout",
     "output_type": "stream",
     "text": [
      "Moyenne des epochs : 11.2\n",
      "Moyenne des accuracies : 0.6753199999999999\n",
      "Moyenne des scores : [0.5971594  0.40284059]\n"
     ]
    }
   ],
   "source": [
    "# ARCHITECTURE 256 128 64 ET 32 AVEC PATIENCE 5 ET EPOCH 25\n",
    "\n",
    "import numpy as np\n",
    "\n",
    "data = [\n",
    "    {'epoch': 11, 'accuracy': 0.4382, 'score': [0.5626613, 0.4373387]},\n",
    "    {'epoch': 15, 'accuracy': 0.6340, 'score': [0.60957116, 0.39042884]},\n",
    "    {'epoch': 16, 'accuracy': 0.6659, 'score': [0.6408287, 0.35917127]},\n",
    "    {'epoch': 8, 'accuracy': 0.5142, 'score': [0.5577915, 0.44220856]},\n",
    "    {'epoch': 9, 'accuracy': 0.8597, 'score': [0.86274946, 0.13725053]},\n",
    "    {'epoch': 15, 'accuracy': 0.9359, 'score': [0.09838849, 0.9016115]},\n",
    "    {'epoch': 9, 'accuracy': 0.7387, 'score': [0.55425847, 0.44574156]},\n",
    "    {'epoch': 12, 'accuracy': 0.6415, 'score': [0.54127616, 0.4587238]},\n",
    "    {'epoch': 9, 'accuracy': 0.5853, 'score': [0.5926935, 0.40730646]},\n",
    "    {'epoch': 8, 'accuracy': 0.7398, 'score': [0.9513753, 0.04862473]}\n",
    "]\n",
    "\n",
    "# Calcul des moyennes\n",
    "mean_epoch = np.mean([d['epoch'] for d in data])\n",
    "mean_accuracy = np.mean([d['accuracy'] for d in data])\n",
    "mean_score = np.mean([d['score'] for d in data], axis=0)\n",
    "\n",
    "print(f\"Moyenne des epochs : {mean_epoch}\")\n",
    "print(f\"Moyenne des accuracies : {mean_accuracy}\")\n",
    "print(f\"Moyenne des scores : {mean_score}\")"
   ]
  },
  {
   "cell_type": "markdown",
   "metadata": {},
   "source": [
    "Lancement avec les couches 256, 128, 64 et 32, avec une patience à 10 et une epoch de 25"
   ]
  },
  {
   "cell_type": "code",
   "execution_count": null,
   "metadata": {},
   "outputs": [],
   "source": [
    "early = EarlyStopping(monitor='val_loss', mode='min', patience=10)\n",
    "learning_rate_reduction = ReduceLROnPlateau(monitor='val_loss', min_lr=0.000001)\n",
    "callbacks_list = [ early, learning_rate_reduction]\n",
    "# model.compile(optimizer = 'adam', loss = 'binary_crossentropy', metrics = ['accuracy'])\n",
    "# si on ne veut pas faire une binary classification, mais plutôt une multiclassification\n",
    "# optimizer = Adam(learning_rate=0.001)\n",
    "model.compile(optimizer = 'adam', loss = 'categorical_crossentropy', metrics = ['accuracy'])\n",
    "history = model.fit(\n",
    "    train_generator,\n",
    "    epochs=50,\n",
    "    validation_data=validation_generator,\n",
    "    callbacks=callbacks_list\n",
    ")"
   ]
  },
  {
   "cell_type": "code",
   "execution_count": 3,
   "metadata": {},
   "outputs": [
    {
     "name": "stdout",
     "output_type": "stream",
     "text": [
      "Moyenne des epochs : 19.5\n",
      "Moyenne des accuracies : 0.43970000000000004\n",
      "Moyenne des scores : [0.5285206  0.47147935]\n"
     ]
    }
   ],
   "source": [
    "#ARCHITECTURE 256 128 64 ET 32 AVEC PATIENCE 10 ET EPOCH 25\n",
    "data = [\n",
    "    {'epoch': 19, 'accuracy': 0.4439, 'score': [0.5151021, 0.4848979]},\n",
    "    {'epoch': 21, 'accuracy': 0.7107, 'score': [0.5980355, 0.4019645]},\n",
    "    {'epoch': 19, 'accuracy': 0.3021, 'score': [0.5004724, 0.4995275]},\n",
    "    {'epoch': 19, 'accuracy': 0.3021, 'score': [0.5004724, 0.4995275]}\n",
    "]\n",
    "#Atteint 25 donc j'augmente a epoch 50\n",
    "\n",
    "# Calcul des moyennes\n",
    "mean_epoch = np.mean([d['epoch'] for d in data])\n",
    "mean_accuracy = np.mean([d['accuracy'] for d in data])\n",
    "mean_score = np.mean([d['score'] for d in data], axis=0)\n",
    "\n",
    "print(f\"Moyenne des epochs : {mean_epoch}\")\n",
    "print(f\"Moyenne des accuracies : {mean_accuracy}\")\n",
    "print(f\"Moyenne des scores : {mean_score}\")"
   ]
  },
  {
   "cell_type": "markdown",
   "metadata": {},
   "source": [
    "Lorsque l'on a executé ce code, on a atteint 25 epoches (le max), ce qui n'est pas censé arriver du fait de l'earlyStopping. Le modèle allait donc risquer d'être en sous ou sur-apprentissage, donc on a pris la décision de relance le modèle en changeant le nombre d'epoches de 25 à 50 (le reste du code reste le même)."
   ]
  },
  {
   "cell_type": "code",
   "execution_count": 4,
   "metadata": {},
   "outputs": [
    {
     "name": "stdout",
     "output_type": "stream",
     "text": [
      "Moyenne des epoch = 29.4\n",
      "Moyenne des accuracy : 0.75685\n",
      "Moyenne des probabilités : [0.6273387  0.37266129]\n"
     ]
    }
   ],
   "source": [
    "data = [\n",
    "    {'epoch': 34, 'accuracy': 0.7587, 'score': [0.5786653, 0.42133462]},\n",
    "    {'epoch': 46, 'accuracy': 0.8360, 'score': [0.62473387, 0.37526616]},\n",
    "    {'epoch': 24, 'accuracy': 0.7864, 'score': [0.8107473, 0.18925264]},\n",
    "    {'epoch': 37, 'accuracy': 0.7316, 'score': [0.6480463, 0.3519537]},\n",
    "    {'epoch': 26, 'accuracy': 0.8466, 'score': [0.60490716, 0.39509287]},\n",
    "    {'epoch': 29, 'accuracy': 0.7477, 'score': [0.3574445, 0.64255553]},\n",
    "    {'epoch': 33, 'accuracy': 0.8084, 'score': [0.8163958, 0.18360418]},\n",
    "    {'epoch': 19, 'accuracy': 0.8287, 'score': [0.7138097, 0.28619027]},\n",
    "    {'epoch': 19, 'accuracy': 0.5349, 'score': [0.45921534, 0.54078466]},\n",
    "    {'epoch': 27, 'accuracy': 0.6895, 'score': [0.65942174, 0.34057823]}\n",
    "]\n",
    "\n",
    "# Calcul des moyennes\n",
    "mean_epoch = np.mean([d['epoch'] for d in data])\n",
    "mean_accuracy = np.mean([d['accuracy'] for d in data])\n",
    "mean_score = np.mean([d['score'] for d in data], axis=0)\n",
    "\n",
    "print(f\"Moyenne des epoch = {mean_epoch}\")\n",
    "print(f\"Moyenne des accuracy : {mean_accuracy}\")\n",
    "print(f\"Moyenne des probabilités : {mean_score}\")"
   ]
  },
  {
   "cell_type": "markdown",
   "metadata": {},
   "source": [
    "Dans les deux cas, on peut voir que les valeurs d'accuracy restent correct (0.76 et 0.68) mais encore loin d'un modèle parfait, et également la capacité de détermination de la classe est plutôt mauvaise. Enfin on peut voir que pour l'epoch, le paramètre qui a varié dans notre modèle ci, a été grandement impacté, passant au début d'epoch à 8.1 à un premier modèle qui a atteint 11.2 et 29.4 pour le second. Le soucis avec des epoch élevé est que dans notre cas, notre base d'apprentissage est faible (20images pour chaque classe), mais si on atteint une base de donnée beaucoup plus grande qui compte des centaines de milliers d'images, le temps d'apprentissage risque d'être extrêmement long (quasiment 4fois plus long entre le modèle de base et  celui de 50 epoch)."
   ]
  },
  {
   "cell_type": "markdown",
   "metadata": {},
   "source": [
    "## Lab 2 ResNet50 et VGG19"
   ]
  },
  {
   "cell_type": "markdown",
   "metadata": {},
   "source": [
    "Dans ce travail, nous avons utilisé les modèles ResNet50 et VGG19 pour la classification d'images de radiographie thoracique. Nous avons utilisé le modèle pré-entraîné sur ImageNet et ajouté une couche dense pour la classification de category. Nous avons utilisé l'optimiseur Adam et la fonction de perte categorical_crossentropy. Nous avons entraîné les modèles pendant 25 époques avec un early stopping basé sur la perte de validation. Nous avons utilisé un taux d'apprentissage de 0,0001 pour ResNet50 et de 0,00001 pour VGG19."
   ]
  },
  {
   "cell_type": "code",
   "execution_count": 5,
   "metadata": {},
   "outputs": [
    {
     "data": {
      "image/png": "[encoded data removed]",
      "text/plain": [
       "<Figure size 1200x800 with 2 Axes>"
      ]
     },
     "metadata": {},
     "output_type": "display_data"
    }
   ],
   "source": [
    "# Comparer avec l'architecture précédente\n",
    "import numpy as np\n",
    "import pandas as pd\n",
    "import matplotlib.pyplot as plt\n",
    "# Charger les résultats de la meilleure architecture conçue au Lab 2\n",
    "# Supposons que les résultats soient stockés dans un fichier CSV avec les colonnes 'epoch', 'train_loss', 'val_loss', 'train_accuracy', 'val_accuracy'\n",
    "lab1_results = pd.read_csv('./resultats/resultats_CNN.csv')\n",
    "lab2_ResNet50_results = pd.read_csv('./resultats/resultats_ResNet50.csv')\n",
    "lab2_VGG19_results = pd.read_csv('./resultats/resultats_VGG19.csv')\n",
    "\n",
    "# Afficher les courbes de perte et de précision pour la comparaison\n",
    "plt.figure(figsize=(12, 8))\n",
    "\n",
    "# Courbe de perte\n",
    "plt.subplot(2, 2, 1)\n",
    "plt.plot(lab1_results['epoch'], lab1_results['train_loss'], label='Lab2 Train Loss', linestyle='--')\n",
    "plt.plot(lab1_results['epoch'], lab1_results['val_loss'], label='Lab2 Validation Loss', linestyle='--')\n",
    "plt.plot(lab2_ResNet50_results['epoch'], lab2_ResNet50_results['train_loss'], label='ResNet50 Train Loss', linestyle='-.')\n",
    "plt.plot(lab2_ResNet50_results['epoch'], lab2_ResNet50_results['val_loss'], label='ResNet50 Validation Loss', linestyle='-.')\n",
    "plt.plot(lab2_VGG19_results['epoch'], lab2_VGG19_results['train_loss'], label='VGG19 Train Loss')\n",
    "plt.plot(lab2_VGG19_results['epoch'], lab2_VGG19_results['val_loss'], label='VGG19 Validation Loss')\n",
    "plt.title('Comparaison des courbes de perte')\n",
    "plt.xlabel('Époques')\n",
    "plt.ylabel('Perte')\n",
    "plt.legend()\n",
    "\n",
    "# Courbe de précision\n",
    "plt.subplot(2, 2, 2)\n",
    "plt.plot(lab1_results['epoch'], lab1_results['train_accuracy'], label='Lab2 Train Accuracy', linestyle='--')\n",
    "plt.plot(lab1_results['epoch'], lab1_results['val_accuracy'], label='Lab2 Validation Accuracy', linestyle='--')\n",
    "plt.plot(lab2_ResNet50_results['epoch'], lab2_ResNet50_results['train_accuracy'], label='ResNet50 Train Accuracy', linestyle='-.')\n",
    "plt.plot(lab2_ResNet50_results['epoch'], lab2_ResNet50_results['val_accuracy'], label='ResNet50 Validation Accuracy', linestyle='-.')\n",
    "plt.plot(lab2_VGG19_results['epoch'], lab2_VGG19_results['train_accuracy'], label='VGG19 Train Accuracy')\n",
    "plt.plot(lab2_VGG19_results['epoch'], lab2_VGG19_results['val_accuracy'], label='VGG19 Validation Accuracy')\n",
    "plt.title('Comparaison des courbes de précision')\n",
    "plt.xlabel('Époques')\n",
    "plt.ylabel('Précision')\n",
    "plt.legend()\n",
    "\n",
    "plt.tight_layout()\n",
    "plt.show()"
   ]
  },
  {
   "cell_type": "markdown",
   "metadata": {},
   "source": [
    "De ce graphique on peut en déduire que les modèles **ResNet50** et **VGG19** ne parviennent pas à apprendre correctement à partir des données de validation, comme en témoigne la précision de validation constante à 50%. Il est important de vérifier les données de validation pour s'assurer qu'elles sont correctement étiquetées et représentatives des données d'entraînement. De plus, des techniques de régularisation et d'augmentation des données peuvent être nécessaires pour améliorer les performances. Malheuresment, meme en changeant le nombre d'epoch, on ne parvient pas à améliorer les performances du modèle.\n",
    "\n",
    "Par ailleurs le modèle **CNN** montre une meilleure capacité d'apprentissage par rapport à VGG19 et ResNet50, avec une précision de validation variable et des pertes de validation plus stables. Cependant, il y a encore des fluctuations importantes, ce qui suggère que des ajustements supplémentaires des hyperparamètres et des techniques de régularisation peuvent être nécessaires pour améliorer la stabilité et les performances du modèle.\n"
   ]
  },
  {
   "cell_type": "code",
   "execution_count": 42,
   "metadata": {},
   "outputs": [
    {
     "name": "stdout",
     "output_type": "stream",
     "text": [
      "Found 2 images belonging to 2 classes.\n"
     ]
    },
    {
     "name": "stderr",
     "output_type": "stream",
     "text": [
      "WARNING:absl:Compiled the loaded model, but the compiled metrics have yet to be built. `model.compile_metrics` will be empty until you train or evaluate the model.\n"
     ]
    },
    {
     "name": "stdout",
     "output_type": "stream",
     "text": [
      "\u001b[1m1/1\u001b[0m \u001b[32m━━━━━━━━━━━━━━━━━━━━\u001b[0m\u001b[37m\u001b[0m \u001b[1m0s\u001b[0m 208ms/step - accuracy: 0.5000 - loss: 0.6109\n",
      "Test Accuracy: 50.00%\n"
     ]
    },
    {
     "name": "stderr",
     "output_type": "stream",
     "text": [
      "WARNING:absl:Compiled the loaded model, but the compiled metrics have yet to be built. `model.compile_metrics` will be empty until you train or evaluate the model.\n"
     ]
    },
    {
     "name": "stdout",
     "output_type": "stream",
     "text": [
      "\u001b[1m1/1\u001b[0m \u001b[32m━━━━━━━━━━━━━━━━━━━━\u001b[0m\u001b[37m\u001b[0m \u001b[1m1s\u001b[0m 1s/step - accuracy: 0.5000 - loss: 18.7588\n",
      "Test Accuracy: 50.00%\n",
      "\u001b[1m1/1\u001b[0m \u001b[32m━━━━━━━━━━━━━━━━━━━━\u001b[0m\u001b[37m\u001b[0m \u001b[1m0s\u001b[0m 396ms/step - accuracy: 0.5000 - loss: 0.6933\n",
      "Test Accuracy: 50.00%\n"
     ]
    }
   ],
   "source": [
    "test_dir = './tp1/data/TEST'\n",
    "from tensorflow.keras.preprocessing.image import ImageDataGenerator\n",
    "from tensorflow.keras.models import load_model\n",
    "\n",
    "# Créer des générateurs d'images pour l'entraînement et le test\n",
    "train_datagen = ImageDataGenerator(rescale=1./255, # normalisation\n",
    "                                   rotation_range=10, # 10 est le degré de rotation\n",
    "                                   zoom_range=0.4,\n",
    "                                   horizontal_flip=True,\n",
    "                                   vertical_flip=True, # flip est comme un effet miroir\n",
    "                                   fill_mode='nearest') # nearest est la méthode d'interpolation\n",
    "\n",
    "test_generator = train_datagen.flow_from_directory(\n",
    "    test_dir,\n",
    "    target_size=(224, 224),\n",
    "    batch_size=32,\n",
    "    class_mode='categorical'\n",
    ")\n",
    "# charger le model CNN\n",
    "model_CNN = load_model('./model/model_CNN.h5')\n",
    "test_loss_CNN, test_accuracy_CNN = model_CNN.evaluate(test_generator, steps=test_generator.samples // test_generator.batch_size)\n",
    "print(f\"Test Accuracy: {test_accuracy_CNN * 100:.2f}%\")\n",
    "\n",
    "# charger le model ResNet50\n",
    "model_ResNet50 = load_model('./model/model_ResrNet50.h5')\n",
    "test_loss_ResNet50, test_accuracy_ResNet50 = model_ResNet50.evaluate(test_generator, steps=test_generator.samples // test_generator.batch_size)\n",
    "print(f\"Test Accuracy: {test_accuracy_ResNet50 * 100:.2f}%\")\n",
    "\n",
    "# charger le model VGG19\n",
    "model_VGG19 = load_model('./model/VGG_19.keras')\n",
    "test_loss_VGG19, test_accuracy_VGG19 = model_VGG19.evaluate(test_generator, steps=test_generator.samples // test_generator.batch_size)\n",
    "print(f\"Test Accuracy: {test_accuracy_VGG19 * 100:.2f}%\")"
   ]
  },
  {
   "cell_type": "markdown",
   "metadata": {},
   "source": [
    "## Conclusion\n",
    "\n",
    "### Précision de 50% \n",
    "Une précision de 50% indique que le modèle ne fait pas mieux qu'un classificateur aléatoire. Cela peut être dû à un déséquilibre des classes, des données bruyantes ou des caractéristiques inadéquates. Assurez-vous que les données sont équilibrées et que le modèle est capable de capturer les informations pertinentes.\n",
    "\n",
    "\n",
    "### Variabilité de la perte \n",
    "La perte varie considérablement entre les évaluations (0.6109, 18.7588, 0.6933). Cela peut indiquer une instabilité dans le modèle ou des problèmes avec les données de test. Assurez-vous que les données de test sont cohérentes et représentatives."
   ]
  }
 ],
 "metadata": {
  "kernelspec": {
   "display_name": "Python 3",
   "language": "python",
   "name": "python3"
  },
  "language_info": {
   "codemirror_mode": {
    "name": "ipython",
    "version": 3
   },
   "file_extension": ".py",
   "mimetype": "text/x-python",
   "name": "python",
   "nbconvert_exporter": "python",
   "pygments_lexer": "ipython3",
   "version": "3.11.0"
  }
 },
 "nbformat": 4,
 "nbformat_minor": 2
}
